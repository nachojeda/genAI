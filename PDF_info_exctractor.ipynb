{
 "cells": [
  {
   "cell_type": "markdown",
   "metadata": {},
   "source": [
    "## Generative AI PDF information exctractor\n",
    "In this use case it is shown how to exctract information from a PDF file through LLM queries. For this use case is necessary the use of a vector database (in this case FAISS), embeddings and OpenAI model calls."
   ]
  },
  {
   "cell_type": "code",
   "execution_count": 2,
   "metadata": {},
   "outputs": [
    {
     "data": {
      "text/plain": [
       "True"
      ]
     },
     "execution_count": 2,
     "metadata": {},
     "output_type": "execute_result"
    }
   ],
   "source": [
    "from dotenv import load_dotenv\n",
    "import os\n",
    "\n",
    "load_dotenv(\"apis.env\")"
   ]
  },
  {
   "cell_type": "code",
   "execution_count": 4,
   "metadata": {},
   "outputs": [],
   "source": [
    "pdf_path = \"TM6_digital_manual_MES-es-ES_prefill_20190121.pdf\"\n",
    "\n",
    "# Load pdf with external info not seen during training of the LLM\n",
    "from langchain.document_loaders import PyPDFLoader\n",
    "loader = PyPDFLoader(pdf_path)\n",
    "pages = loader.load_and_split()"
   ]
  },
  {
   "cell_type": "code",
   "execution_count": 5,
   "metadata": {},
   "outputs": [
    {
     "data": {
      "text/plain": [
       "Document(page_content='MANUAL DE\\nINSTRUCCIONES\\nTHERMOMIX® TM6\\nV 2.0 • DIGITAL MANUAL', metadata={'source': 'TM6_digital_manual_MES-es-ES_prefill_20190121.pdf', 'page': 0})"
      ]
     },
     "execution_count": 5,
     "metadata": {},
     "output_type": "execute_result"
    }
   ],
   "source": [
    "pages[0]"
   ]
  },
  {
   "cell_type": "code",
   "execution_count": 6,
   "metadata": {},
   "outputs": [],
   "source": [
    "# Generate vector space representation with words from the external data\n",
    "from langchain.embeddings import OpenAIEmbeddings\n",
    "embeddings = OpenAIEmbeddings()"
   ]
  },
  {
   "cell_type": "code",
   "execution_count": 7,
   "metadata": {},
   "outputs": [],
   "source": [
    "# Load embeddings in vector database\n",
    "from langchain.vectorstores import FAISS\n",
    "db = FAISS.from_documents(pages, embeddings)"
   ]
  },
  {
   "cell_type": "code",
   "execution_count": 8,
   "metadata": {},
   "outputs": [],
   "source": [
    "# Use information retrieval from embedding for answer\n",
    "from langchain.chains import RetrievalQA\n",
    "from langchain import OpenAI\n",
    "\n",
    "llm = OpenAI()\n",
    "chain = RetrievalQA.from_llm(llm=llm, retriever=db.as_retriever())"
   ]
  },
  {
   "cell_type": "code",
   "execution_count": 9,
   "metadata": {},
   "outputs": [
    {
     "data": {
      "text/plain": [
       "{'result': ' Para pesar ingredientes, coloque el vaso en la unidad central y toque el icono de la báscula del menú Funciones y herramientas. Pese el primer ingrediente (hasta máx. 3,0 kg). Si desea añadir más ingredientes, pulse el icono de tara y añada el siguiente ingrediente al vaso. Repita estos pasos tantas veces como sea necesario hasta alcanzar el peso máximo (6 kg). La variación hasta 3 kg es de +/–30 g.'}"
      ]
     },
     "execution_count": 9,
     "metadata": {},
     "output_type": "execute_result"
    }
   ],
   "source": [
    "# Query 1\n",
    "query = \"Cómo puedo pesar ingredientes?\"\n",
    "chain(query, return_only_outputs=True)"
   ]
  },
  {
   "cell_type": "code",
   "execution_count": 10,
   "metadata": {},
   "outputs": [
    {
     "data": {
      "text/plain": [
       "{'result': ' No, la thermomix no tiene la función para hacer helado.'}"
      ]
     },
     "execution_count": 10,
     "metadata": {},
     "output_type": "execute_result"
    }
   ],
   "source": [
    "# Query 2\n",
    "query = \"Puedo hacer helado con la thermomix?\"\n",
    "chain(query, return_only_outputs=True)"
   ]
  },
  {
   "cell_type": "code",
   "execution_count": 11,
   "metadata": {},
   "outputs": [
    {
     "data": {
      "text/plain": [
       "{'result': ' Sí, puedes utilizar las velocidades de 4 a 10 para trocear porciones grandes, medianas y pequeñas y para mezclar y triturar. También puedes utilizar el modo \"Turbo\" para poner la unidad central a velocidad máxima.'}"
      ]
     },
     "execution_count": 11,
     "metadata": {},
     "output_type": "execute_result"
    }
   ],
   "source": [
    "# Query 3\n",
    "query = \"Existe algún modo rápido para triturar alimentos?\"\n",
    "chain(query, return_only_outputs=True)"
   ]
  },
  {
   "cell_type": "code",
   "execution_count": 12,
   "metadata": {},
   "outputs": [
    {
     "data": {
      "text/plain": [
       "{'result': ' No sabemos cómo hacer ajo en polvo.'}"
      ]
     },
     "execution_count": 12,
     "metadata": {},
     "output_type": "execute_result"
    }
   ],
   "source": [
    "# Query 4\n",
    "query = \"Necesito hacer ajo en polvo, cómo lo hago?\"\n",
    "chain(query, return_only_outputs=True)"
   ]
  },
  {
   "cell_type": "code",
   "execution_count": null,
   "metadata": {},
   "outputs": [],
   "source": []
  }
 ],
 "metadata": {
  "kernelspec": {
   "display_name": "TFM",
   "language": "python",
   "name": "python3"
  },
  "language_info": {
   "codemirror_mode": {
    "name": "ipython",
    "version": 3
   },
   "file_extension": ".py",
   "mimetype": "text/x-python",
   "name": "python",
   "nbconvert_exporter": "python",
   "pygments_lexer": "ipython3",
   "version": "3.11.5"
  }
 },
 "nbformat": 4,
 "nbformat_minor": 2
}
